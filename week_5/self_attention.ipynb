{
 "cells": [
  {
   "cell_type": "code",
   "execution_count": 1,
   "id": "58a5ccf6",
   "metadata": {},
   "outputs": [],
   "source": [
    "import numpy as np"
   ]
  },
  {
   "cell_type": "code",
   "execution_count": 10,
   "id": "8d01d874",
   "metadata": {},
   "outputs": [
    {
     "name": "stdout",
     "output_type": "stream",
     "text": [
      "Exponentials: [ 1.10517092  1.64872127  2.71828183 12.18249396]\n",
      "Softmax: [0.06259936 0.09338727 0.15396958 0.69004379]\n"
     ]
    }
   ],
   "source": [
    "vector = np.array([0.1, 0.5, 1, 2.5])\n",
    "exp_vector = np.exp(vector)\n",
    "print(\"Exponentials:\", exp_vector)\n",
    "softmax_vec = exp_vector / np.sum(exp_vector)\n",
    "print(\"Softmax:\", softmax_vec)\n"
   ]
  },
  {
   "cell_type": "code",
   "execution_count": 11,
   "id": "60a1ba17",
   "metadata": {},
   "outputs": [
    {
     "name": "stdout",
     "output_type": "stream",
     "text": [
      "Exponentials: [0.09071795 0.13533528 0.22313016 1.        ]\n",
      "Softmax: [0.06259936 0.09338727 0.15396958 0.69004379]\n"
     ]
    }
   ],
   "source": [
    "vector = np.array([0.1, 0.5, 1, 2.5])\n",
    "exp_vector = np.exp(vector-np.max(vector))\n",
    "print(\"Exponentials:\", exp_vector)\n",
    "softmax_vec = exp_vector / np.sum(exp_vector)\n",
    "print(\"Softmax:\", softmax_vec)"
   ]
  },
  {
   "cell_type": "code",
   "execution_count": 12,
   "id": "85ae8735",
   "metadata": {},
   "outputs": [],
   "source": [
    "def softmax(z):\n",
    "    exp_z = np.exp(z-np.max(z))\n",
    "    return exp_z/np.sum(exp_z)\n"
   ]
  },
  {
   "cell_type": "code",
   "execution_count": 13,
   "id": "605a7ce9",
   "metadata": {},
   "outputs": [
    {
     "name": "stdout",
     "output_type": "stream",
     "text": [
      "Softmax: [0.06259936 0.09338727 0.15396958 0.69004379]\n"
     ]
    }
   ],
   "source": [
    "vector = np.array([0.1, 0.5, 1, 2.5])\n",
    "softmax_vec = softmax(vector)\n",
    "print(\"Softmax:\", softmax_vec)"
   ]
  },
  {
   "cell_type": "code",
   "execution_count": null,
   "id": "53c1a953",
   "metadata": {},
   "outputs": [],
   "source": []
  },
  {
   "cell_type": "code",
   "execution_count": null,
   "id": "5ae485eb",
   "metadata": {},
   "outputs": [],
   "source": []
  },
  {
   "cell_type": "code",
   "execution_count": null,
   "id": "0c1175d9",
   "metadata": {},
   "outputs": [],
   "source": []
  },
  {
   "cell_type": "code",
   "execution_count": null,
   "id": "cfedd35f",
   "metadata": {},
   "outputs": [],
   "source": []
  },
  {
   "cell_type": "code",
   "execution_count": null,
   "id": "b58ce67a",
   "metadata": {},
   "outputs": [],
   "source": []
  },
  {
   "cell_type": "code",
   "execution_count": null,
   "id": "aa60e3ba",
   "metadata": {},
   "outputs": [],
   "source": []
  }
 ],
 "metadata": {
  "kernelspec": {
   "display_name": "fralab",
   "language": "python",
   "name": "python3"
  },
  "language_info": {
   "codemirror_mode": {
    "name": "ipython",
    "version": 3
   },
   "file_extension": ".py",
   "mimetype": "text/x-python",
   "name": "python",
   "nbconvert_exporter": "python",
   "pygments_lexer": "ipython3",
   "version": "3.10.18"
  }
 },
 "nbformat": 4,
 "nbformat_minor": 5
}
